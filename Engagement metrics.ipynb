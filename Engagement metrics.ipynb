{
 "cells": [
  {
   "cell_type": "code",
   "execution_count": 2,
   "id": "c942f16f-4992-407f-bc07-12aa1d1837f4",
   "metadata": {},
   "outputs": [],
   "source": [
    "import pandas as pd\n",
    "import dash\n",
    "from dash import html, dcc\n",
    "import plotly.graph_objects as go\n",
    "\n",
    "# Data\n",
    "data = {\n",
    "    \"Group\": [\"Personalized\", \"Generic\"],\n",
    "    \"Open Rate (%)\": [31.20, 19.80],\n",
    "    \"Bounce Rate (%)\": [2.10, 3.20],\n",
    "    \"Unsubscribe Rate (%)\": [0.00, 1.10]\n",
    "}\n",
    "df = pd.DataFrame(data)\n",
    "\n",
    "# Create the chart\n",
    "fig = go.Figure()\n",
    "fig.add_trace(go.Bar(name='Open Rate (%)', x=df['Group'], y=df['Open Rate (%)'], marker_color='teal'))\n",
    "fig.add_trace(go.Bar(name='Bounce Rate (%)', x=df['Group'], y=df['Bounce Rate (%)'], marker_color='orange'))\n",
    "fig.add_trace(go.Bar(name='Unsubscribe Rate (%)', x=df['Group'], y=df['Unsubscribe Rate (%)'], marker_color='crimson'))\n",
    "\n",
    "fig.update_layout(\n",
    "    title='Engagement Metrics Comparison: Personalized vs Generic Emails',\n",
    "    xaxis_title='Email Type',\n",
    "    yaxis_title='Percentage (%)',\n",
    "    barmode='group',\n",
    "    template='plotly_white'\n",
    ")\n",
    "\n",
    "# Export as PNG (requires 'kaleido' package)\n",
    "fig.write_image(\"engagement_metrics_comparison.png\")\n"
   ]
  },
  {
   "cell_type": "code",
   "execution_count": null,
   "id": "45361dd6-f993-49eb-ab87-b4dae64b3e13",
   "metadata": {},
   "outputs": [],
   "source": []
  }
 ],
 "metadata": {
  "kernelspec": {
   "display_name": "Python 3 (ipykernel)",
   "language": "python",
   "name": "python3"
  },
  "language_info": {
   "codemirror_mode": {
    "name": "ipython",
    "version": 3
   },
   "file_extension": ".py",
   "mimetype": "text/x-python",
   "name": "python",
   "nbconvert_exporter": "python",
   "pygments_lexer": "ipython3",
   "version": "3.11.7"
  }
 },
 "nbformat": 4,
 "nbformat_minor": 5
}
