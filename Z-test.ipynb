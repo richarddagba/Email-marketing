{
 "cells": [
  {
   "cell_type": "code",
   "execution_count": 1,
   "id": "c3f9f92c-a3d7-430a-8c72-b1f4eccdc523",
   "metadata": {},
   "outputs": [
    {
     "name": "stdout",
     "output_type": "stream",
     "text": [
      "Z-statistic: 4.829\n",
      "P-value: 0.0000\n",
      "Reject H₀: There is significant evidence that personalized emails increase engagement.\n"
     ]
    }
   ],
   "source": [
    "from statsmodels.stats.proportion import proportions_ztest\n",
    "import numpy as np\n",
    "\n",
    "# Data\n",
    "# Number of opens (successes)\n",
    "successes = np.array([54, 21])\n",
    "\n",
    "# Number of delivered emails (trials)\n",
    "nobs = np.array([93, 91])  # Successful Deliveries\n",
    "\n",
    "# Perform one-tailed z-test (H1: p1 > p2)\n",
    "z_stat, p_val = proportions_ztest(count=successes, nobs=nobs, alternative='larger')\n",
    "\n",
    "# Report results\n",
    "print(f\"Z-statistic: {z_stat:.3f}\")\n",
    "print(f\"P-value: {p_val:.4f}\")\n",
    "\n",
    "# Interpretation\n",
    "alpha = 0.05\n",
    "if p_val < alpha:\n",
    "    print(\"Reject H₀: There is significant evidence that personalized emails increase engagement.\")\n",
    "else:\n",
    "    print(\"Fail to reject H₀: No significant evidence that personalized emails increase engagement.\")\n"
   ]
  },
  {
   "cell_type": "code",
   "execution_count": null,
   "id": "2a16586d-8e95-4dd3-8821-bf4a80138fdf",
   "metadata": {},
   "outputs": [],
   "source": []
  }
 ],
 "metadata": {
  "kernelspec": {
   "display_name": "Python 3 (ipykernel)",
   "language": "python",
   "name": "python3"
  },
  "language_info": {
   "codemirror_mode": {
    "name": "ipython",
    "version": 3
   },
   "file_extension": ".py",
   "mimetype": "text/x-python",
   "name": "python",
   "nbconvert_exporter": "python",
   "pygments_lexer": "ipython3",
   "version": "3.11.7"
  }
 },
 "nbformat": 4,
 "nbformat_minor": 5
}
